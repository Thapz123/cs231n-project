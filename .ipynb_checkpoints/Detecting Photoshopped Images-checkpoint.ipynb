{
 "cells": [
  {
   "cell_type": "code",
   "execution_count": 1,
   "metadata": {},
   "outputs": [],
   "source": [
    "import os\n",
    "import numpy as np\n",
    "import torch\n",
    "import torch.nn as nn\n",
    "import torch.optim as optim\n",
    "from torch.utils.data  import random_split, Subset\n",
    "from torch.optim import lr_scheduler\n",
    "from torch.utils.data import DataLoader\n",
    "from torch.utils.data import sampler\n",
    "import torchvision.datasets as dset\n",
    "import torchvision.transforms as T\n",
    "import matplotlib.pyplot as plt\n",
    "import time\n",
    "import copy\n",
    "\n",
    "# Ignore warnings\n",
    "import warnings\n",
    "warnings.filterwarnings(\"ignore\")\n",
    "\n",
    "plt.ion()   # interactive mode\n",
    "\n",
    "%load_ext autoreload\n",
    "%autoreload 2"
   ]
  },
  {
   "cell_type": "code",
   "execution_count": 2,
   "metadata": {},
   "outputs": [],
   "source": [
    "from model.data_loader import *\n",
    "\n",
    "PHOTOSHOPS_FULL ='data/photoshops_dev_resized'\n",
    "ORIGINALS_FULL ='data/originals_dev_resized'\n"
   ]
  },
  {
   "cell_type": "code",
   "execution_count": 3,
   "metadata": {},
   "outputs": [
    {
     "name": "stdout",
     "output_type": "stream",
     "text": [
      "194\n"
     ]
    }
   ],
   "source": [
    "master_dataset = PhotoshopDataset(ORIGINALS_FULL, PHOTOSHOPS_FULL)\n",
    "print(len(master_dataset))"
   ]
  },
  {
   "cell_type": "markdown",
   "metadata": {},
   "source": [
    "Change device to GPU if available"
   ]
  },
  {
   "cell_type": "code",
   "execution_count": 4,
   "metadata": {},
   "outputs": [],
   "source": [
    "device = torch.device(\"cuda:0\" if torch.cuda.is_available() else \"cpu\")"
   ]
  },
  {
   "cell_type": "markdown",
   "metadata": {},
   "source": [
    "### Create train, val, splits for full learning \n",
    "\n",
    "This is the dataset that will be used for final learning"
   ]
  },
  {
   "cell_type": "code",
   "execution_count": 5,
   "metadata": {},
   "outputs": [],
   "source": [
    "random.seed(42)\n",
    "\n",
    "n = len(master_dataset)\n",
    "n_test= int( n * .15 )  # number of test/val elements\n",
    "n_val = n_test\n",
    "n_train = n - 2 * n_test\n",
    "\n",
    "train_set, val_set, test_set = random_split(master_dataset, (n_train, n_val, n_test))"
   ]
  },
  {
   "cell_type": "code",
   "execution_count": 6,
   "metadata": {},
   "outputs": [
    {
     "name": "stdout",
     "output_type": "stream",
     "text": [
      "136\n",
      "29\n",
      "29\n"
     ]
    }
   ],
   "source": [
    "print (len(train_set))\n",
    "train_set.transform = data_transforms['train']\n",
    "print (len(val_set))\n",
    "val_set.transform = data_transforms['val']\n",
    "print (len(test_set))\n",
    "test_set.transform = data_transforms['val']"
   ]
  },
  {
   "cell_type": "markdown",
   "metadata": {},
   "source": [
    "### Create train, val, splits for dev\n",
    "\n",
    "This is the dataset that will be used for development i.e 10% of master data"
   ]
  },
  {
   "cell_type": "code",
   "execution_count": 7,
   "metadata": {},
   "outputs": [],
   "source": [
    "n_train_dev = int( n_train * .1 )\n",
    "n_test_dev= int( n_test * .1 )  \n",
    "n_val_dev = int( n_val * .1)\n",
    "\n",
    "\n",
    "train_set_dev = Subset(train_set, range(n_train_dev))\n",
    "val_set_dev = Subset(val_set,range(n_val_dev))\n",
    "test_set_dev = Subset(test_set, range(n_test_dev))"
   ]
  },
  {
   "cell_type": "code",
   "execution_count": 8,
   "metadata": {},
   "outputs": [
    {
     "name": "stdout",
     "output_type": "stream",
     "text": [
      "13\n",
      "2\n",
      "2\n"
     ]
    }
   ],
   "source": [
    "print (len(train_set_dev))\n",
    "print (len(val_set_dev))\n",
    "print (len(test_set_dev))"
   ]
  },
  {
   "cell_type": "markdown",
   "metadata": {},
   "source": [
    "### Create data loaders for dev sets\n",
    "\n",
    "Used to load data. "
   ]
  },
  {
   "cell_type": "code",
   "execution_count": 9,
   "metadata": {},
   "outputs": [],
   "source": [
    "full_dataloaders = {\n",
    "    'train' : DataLoader(train_set, batch_size=128, shuffle=True, num_workers=4),\n",
    "    'val' : DataLoader(val_set, batch_size=128, shuffle=True, num_workers=4),\n",
    "    'test' : DataLoader(test_set, batch_size=128, shuffle=True, num_workers=4),\n",
    "}"
   ]
  },
  {
   "cell_type": "code",
   "execution_count": 10,
   "metadata": {},
   "outputs": [],
   "source": [
    "dev_dataloaders = {\n",
    "    'train' : DataLoader(train_set_dev, batch_size=8, shuffle=True, num_workers=2),\n",
    "    'val' : DataLoader(val_set_dev, batch_size=8, shuffle=True, num_workers=2),\n",
    "    'test' : DataLoader(test_set_dev, batch_size=8, shuffle=True, num_workers=2)\n",
    "}"
   ]
  },
  {
   "cell_type": "markdown",
   "metadata": {},
   "source": [
    "### Importing the InceptionV3 Classifier\n",
    "\n",
    "Classifier is a finetuned InceptionV3 model"
   ]
  },
  {
   "cell_type": "code",
   "execution_count": 32,
   "metadata": {},
   "outputs": [],
   "source": [
    "from model.inception_net import inception_classifier"
   ]
  },
  {
   "cell_type": "code",
   "execution_count": 33,
   "metadata": {},
   "outputs": [
    {
     "name": "stderr",
     "output_type": "stream",
     "text": [
      "Downloading: \"https://download.pytorch.org/models/inception_v3_google-1a9a5a14.pth\" to /Users/ozioma-jesusanyanwu/.cache/torch/checkpoints/inception_v3_google-1a9a5a14.pth\n",
      "100%|██████████| 108857766/108857766 [00:08<00:00, 12702207.50it/s]\n"
     ]
    },
    {
     "name": "stdout",
     "output_type": "stream",
     "text": [
      "Params to learn:\n",
      "\t AuxLogits.fc.weight\n",
      "\t AuxLogits.fc.bias\n",
      "\t fc.weight\n",
      "\t fc.bias\n",
      "Epoch 0/24\n",
      "----------\n",
      "train Loss: 1.0689 Acc: 0.6154\n",
      "val Loss: 0.6249 Acc: 0.5000\n",
      "\n",
      "Epoch 1/24\n",
      "----------\n",
      "train Loss: 0.8983 Acc: 0.5385\n",
      "val Loss: 0.3571 Acc: 1.0000\n",
      "\n",
      "Epoch 2/24\n",
      "----------\n",
      "train Loss: 0.8805 Acc: 0.6154\n",
      "val Loss: 0.4722 Acc: 1.0000\n",
      "\n",
      "Epoch 3/24\n",
      "----------\n",
      "train Loss: 0.8240 Acc: 0.6154\n",
      "val Loss: 0.4398 Acc: 1.0000\n",
      "\n",
      "Epoch 4/24\n",
      "----------\n",
      "train Loss: 0.8565 Acc: 0.6154\n",
      "val Loss: 0.3895 Acc: 1.0000\n",
      "\n",
      "Epoch 5/24\n",
      "----------\n",
      "train Loss: 0.8450 Acc: 0.6154\n",
      "val Loss: 0.4327 Acc: 1.0000\n",
      "\n",
      "Epoch 6/24\n",
      "----------\n",
      "train Loss: 0.8250 Acc: 0.6154\n",
      "val Loss: 0.5699 Acc: 0.5000\n",
      "\n",
      "Epoch 7/24\n",
      "----------\n",
      "train Loss: 0.7868 Acc: 0.6154\n",
      "val Loss: 0.5975 Acc: 0.5000\n",
      "\n",
      "Epoch 8/24\n",
      "----------\n",
      "train Loss: 0.8262 Acc: 0.6154\n",
      "val Loss: 0.4962 Acc: 1.0000\n",
      "\n",
      "Epoch 9/24\n",
      "----------\n",
      "train Loss: 0.8932 Acc: 0.5385\n",
      "val Loss: 0.5087 Acc: 1.0000\n",
      "\n",
      "Epoch 10/24\n",
      "----------\n",
      "train Loss: 0.7663 Acc: 0.6154\n",
      "val Loss: 0.6122 Acc: 0.5000\n",
      "\n",
      "Epoch 11/24\n",
      "----------\n",
      "train Loss: 0.7683 Acc: 0.6154\n",
      "val Loss: 0.4704 Acc: 1.0000\n",
      "\n",
      "Epoch 12/24\n",
      "----------\n",
      "train Loss: 0.7076 Acc: 0.6923\n",
      "val Loss: 0.4273 Acc: 1.0000\n",
      "\n",
      "Epoch 13/24\n",
      "----------\n",
      "train Loss: 0.9402 Acc: 0.6154\n",
      "val Loss: 0.4664 Acc: 1.0000\n",
      "\n",
      "Epoch 14/24\n",
      "----------\n",
      "train Loss: 0.7914 Acc: 0.6154\n",
      "val Loss: 0.5737 Acc: 0.5000\n",
      "\n",
      "Epoch 15/24\n",
      "----------\n",
      "train Loss: 0.8516 Acc: 0.6923\n",
      "val Loss: 0.4324 Acc: 1.0000\n",
      "\n",
      "Epoch 16/24\n",
      "----------\n",
      "train Loss: 0.7376 Acc: 0.6923\n",
      "val Loss: 0.5208 Acc: 0.5000\n",
      "\n",
      "Epoch 17/24\n",
      "----------\n",
      "train Loss: 0.8133 Acc: 0.6154\n",
      "val Loss: 0.6163 Acc: 0.5000\n",
      "\n",
      "Epoch 18/24\n",
      "----------\n",
      "train Loss: 0.8883 Acc: 0.6154\n",
      "val Loss: 0.5120 Acc: 1.0000\n",
      "\n",
      "Epoch 19/24\n",
      "----------\n",
      "train Loss: 0.8155 Acc: 0.6923\n",
      "val Loss: 0.6486 Acc: 0.5000\n",
      "\n",
      "Epoch 20/24\n",
      "----------\n",
      "train Loss: 0.8151 Acc: 0.6154\n",
      "val Loss: 0.5485 Acc: 0.5000\n",
      "\n",
      "Epoch 21/24\n",
      "----------\n",
      "train Loss: 0.7166 Acc: 0.6923\n",
      "val Loss: 0.5117 Acc: 1.0000\n",
      "\n",
      "Epoch 22/24\n",
      "----------\n",
      "train Loss: 0.8464 Acc: 0.6154\n",
      "val Loss: 0.5799 Acc: 1.0000\n",
      "\n",
      "Epoch 23/24\n",
      "----------\n",
      "train Loss: 0.7879 Acc: 0.6923\n",
      "val Loss: 0.5764 Acc: 0.5000\n",
      "\n",
      "Epoch 24/24\n",
      "----------\n",
      "train Loss: 0.8537 Acc: 0.6154\n",
      "val Loss: 0.5677 Acc: 0.5000\n",
      "\n",
      "Training complete in 1m 22s\n",
      "Best val Acc: 1.000000\n"
     ]
    }
   ],
   "source": [
    "inception_model, inception_hist = inception_classifier(dev_dataloaders)"
   ]
  },
  {
   "cell_type": "markdown",
   "metadata": {},
   "source": [
    "### Visualizing the results\n",
    "\n",
    "We will plot the results"
   ]
  },
  {
   "cell_type": "code",
   "execution_count": 34,
   "metadata": {},
   "outputs": [
    {
     "data": {
      "image/png": "[encoded data removed]",
      "text/plain": [
       "<Figure size 432x288 with 1 Axes>"
      ]
     },
     "metadata": {
      "needs_background": "light"
     },
     "output_type": "display_data"
    }
   ],
   "source": [
    "inception_ohist = [h.cpu().numpy() for h in inception_hist]\n",
    "num_epochs = 25\n",
    "plt.title(\"Validation Accuracy vs. Number of Training Epochs\")\n",
    "plt.xlabel(\"Training Epochs\")\n",
    "plt.ylabel(\"Validation Accuracy\")\n",
    "plt.plot(range(1,num_epochs+1),inception_ohist,label=\"Inception Model\")\n",
    "plt.ylim((0,1.))\n",
    "plt.xticks(np.arange(1, num_epochs+1, 1.0))\n",
    "plt.legend()\n",
    "plt.show()"
   ]
  },
  {
   "cell_type": "markdown",
   "metadata": {},
   "source": [
    "### Importing the CNN Model\n",
    "\n",
    "Classifier is a simple 3 layer CNN model"
   ]
  },
  {
   "cell_type": "code",
   "execution_count": 37,
   "metadata": {},
   "outputs": [],
   "source": [
    "from model.cnn import cnn_classifier"
   ]
  },
  {
   "cell_type": "code",
   "execution_count": 39,
   "metadata": {},
   "outputs": [
    {
     "name": "stdout",
     "output_type": "stream",
     "text": [
      "Params to learn:\n",
      "\t layer1.0.weight\n",
      "\t layer1.0.bias\n",
      "\t layer1.1.weight\n",
      "\t layer1.1.bias\n",
      "\t layer2.0.weight\n",
      "\t layer2.0.bias\n",
      "\t layer2.1.weight\n",
      "\t layer2.1.bias\n",
      "\t layer3.0.weight\n",
      "\t layer3.0.bias\n",
      "\t layer3.1.weight\n",
      "\t layer3.1.bias\n",
      "\t fc.weight\n",
      "\t fc.bias\n",
      "Epoch 0/24\n",
      "----------\n",
      "train Loss: 96.1698 Acc: 0.4615\n",
      "val Loss: 1.5098 Acc: 0.5000\n",
      "\n",
      "Epoch 1/24\n",
      "----------\n",
      "train Loss: 23.0571 Acc: 0.6923\n",
      "val Loss: 11.7414 Acc: 0.5000\n",
      "\n",
      "Epoch 2/24\n",
      "----------\n",
      "train Loss: 87.2068 Acc: 0.5385\n",
      "val Loss: 45.5155 Acc: 0.5000\n",
      "\n",
      "Epoch 3/24\n",
      "----------\n",
      "train Loss: 67.5588 Acc: 0.6154\n",
      "val Loss: 0.0000 Acc: 1.0000\n",
      "\n",
      "Epoch 4/24\n",
      "----------\n",
      "train Loss: 129.3505 Acc: 0.5385\n",
      "val Loss: 0.0000 Acc: 1.0000\n",
      "\n",
      "Epoch 5/24\n",
      "----------\n",
      "train Loss: 113.5520 Acc: 0.6154\n",
      "val Loss: 0.0000 Acc: 1.0000\n",
      "\n",
      "Epoch 6/24\n",
      "----------\n",
      "train Loss: 114.5829 Acc: 0.6154\n",
      "val Loss: 0.0000 Acc: 1.0000\n",
      "\n",
      "Epoch 7/24\n",
      "----------\n",
      "train Loss: 63.9629 Acc: 0.6923\n",
      "val Loss: 0.0000 Acc: 1.0000\n",
      "\n",
      "Epoch 8/24\n",
      "----------\n",
      "train Loss: 52.2326 Acc: 0.6923\n",
      "val Loss: 0.0000 Acc: 1.0000\n",
      "\n",
      "Epoch 9/24\n",
      "----------\n",
      "train Loss: 43.3621 Acc: 0.7692\n",
      "val Loss: 19.6702 Acc: 0.5000\n",
      "\n",
      "Epoch 10/24\n",
      "----------\n",
      "train Loss: 78.1485 Acc: 0.6154\n",
      "val Loss: 104.2242 Acc: 0.5000\n",
      "\n",
      "Epoch 11/24\n",
      "----------\n",
      "train Loss: 33.1760 Acc: 0.7692\n",
      "val Loss: 27.0144 Acc: 0.5000\n",
      "\n",
      "Epoch 12/24\n",
      "----------\n",
      "train Loss: 71.3632 Acc: 0.6923\n",
      "val Loss: 0.0000 Acc: 1.0000\n",
      "\n",
      "Epoch 13/24\n",
      "----------\n",
      "train Loss: 37.5549 Acc: 0.8462\n",
      "val Loss: 0.0000 Acc: 1.0000\n",
      "\n",
      "Epoch 14/24\n",
      "----------\n",
      "train Loss: 34.6117 Acc: 0.6923\n",
      "val Loss: 33.3660 Acc: 0.5000\n",
      "\n",
      "Epoch 15/24\n",
      "----------\n",
      "train Loss: 46.0186 Acc: 0.6154\n",
      "val Loss: 0.0000 Acc: 1.0000\n",
      "\n",
      "Epoch 16/24\n",
      "----------\n",
      "train Loss: 39.0208 Acc: 0.6923\n",
      "val Loss: 53.0753 Acc: 0.5000\n",
      "\n",
      "Epoch 17/24\n",
      "----------\n",
      "train Loss: 64.7327 Acc: 0.6154\n",
      "val Loss: 163.3556 Acc: 0.5000\n",
      "\n",
      "Epoch 18/24\n",
      "----------\n",
      "train Loss: 26.8331 Acc: 0.9231\n",
      "val Loss: 129.7667 Acc: 0.5000\n",
      "\n",
      "Epoch 19/24\n",
      "----------\n",
      "train Loss: 62.6375 Acc: 0.6154\n",
      "val Loss: 0.0000 Acc: 1.0000\n",
      "\n",
      "Epoch 20/24\n",
      "----------\n",
      "train Loss: 78.0993 Acc: 0.6923\n",
      "val Loss: 86.2630 Acc: 0.5000\n",
      "\n",
      "Epoch 21/24\n",
      "----------\n",
      "train Loss: 14.0298 Acc: 0.8462\n",
      "val Loss: 19.6578 Acc: 0.5000\n",
      "\n",
      "Epoch 22/24\n",
      "----------\n",
      "train Loss: 57.8500 Acc: 0.5385\n",
      "val Loss: 19.0034 Acc: 0.5000\n",
      "\n",
      "Epoch 23/24\n",
      "----------\n",
      "train Loss: 50.1292 Acc: 0.6923\n",
      "val Loss: 38.1179 Acc: 0.5000\n",
      "\n",
      "Epoch 24/24\n",
      "----------\n",
      "train Loss: 56.2445 Acc: 0.5385\n",
      "val Loss: 119.4621 Acc: 0.5000\n",
      "\n",
      "Training complete in 1m 37s\n",
      "Best val Acc: 1.000000\n"
     ]
    }
   ],
   "source": [
    "cnn_model, cnn_hist = cnn_classifier(dev_dataloaders)"
   ]
  },
  {
   "cell_type": "code",
   "execution_count": 40,
   "metadata": {},
   "outputs": [
    {
     "data": {
      "image/png": "[encoded data removed]",
      "text/plain": [
       "<Figure size 432x288 with 1 Axes>"
      ]
     },
     "metadata": {
      "needs_background": "light"
     },
     "output_type": "display_data"
    }
   ],
   "source": [
    "cnn_ohist = [h.cpu().numpy() for h in cnn_hist]\n",
    "num_epochs = 25\n",
    "plt.title(\"Validation Accuracy vs. Number of Training Epochs\")\n",
    "plt.xlabel(\"Training Epochs\")\n",
    "plt.ylabel(\"Validation Accuracy\")\n",
    "plt.plot(range(1,num_epochs+1),cnn_ohist,label=\"CNN Model\")\n",
    "plt.ylim((0,1.))\n",
    "plt.xticks(np.arange(1, num_epochs+1, 1.0))\n",
    "plt.legend()\n",
    "plt.show()"
   ]
  },
  {
   "cell_type": "markdown",
   "metadata": {},
   "source": [
    "### Importing the 4_Layer_NN Model\n",
    "\n",
    "Classifier is a simple 4 layer Neural Network"
   ]
  },
  {
   "cell_type": "code",
   "execution_count": 22,
   "metadata": {},
   "outputs": [
    {
     "ename": "ImportError",
     "evalue": "cannot import name 'nnn_classifier' from 'model.nn' (/Users/ozioma-jesusanyanwu/Desktop/cs231n-project/model/nn.py)",
     "output_type": "error",
     "traceback": [
      "\u001b[0;31m---------------------------------------------------------------------------\u001b[0m",
      "\u001b[0;31mImportError\u001b[0m                               Traceback (most recent call last)",
      "\u001b[0;32m<ipython-input-22-89c336840b32>\u001b[0m in \u001b[0;36m<module>\u001b[0;34m\u001b[0m\n\u001b[0;32m----> 1\u001b[0;31m \u001b[0;32mfrom\u001b[0m \u001b[0mmodel\u001b[0m\u001b[0;34m.\u001b[0m\u001b[0mnn\u001b[0m \u001b[0;32mimport\u001b[0m \u001b[0mnnn_classifier\u001b[0m\u001b[0;34m\u001b[0m\u001b[0;34m\u001b[0m\u001b[0m\n\u001b[0m",
      "\u001b[0;31mImportError\u001b[0m: cannot import name 'nnn_classifier' from 'model.nn' (/Users/ozioma-jesusanyanwu/Desktop/cs231n-project/model/nn.py)"
     ]
    }
   ],
   "source": [
    "from model.nn import nn_classifier"
   ]
  },
  {
   "cell_type": "code",
   "execution_count": 20,
   "metadata": {},
   "outputs": [
    {
     "ename": "NameError",
     "evalue": "name 'nn_classifier' is not defined",
     "output_type": "error",
     "traceback": [
      "\u001b[0;31m---------------------------------------------------------------------------\u001b[0m",
      "\u001b[0;31mNameError\u001b[0m                                 Traceback (most recent call last)",
      "\u001b[0;32m<ipython-input-20-b3e361a4ade3>\u001b[0m in \u001b[0;36m<module>\u001b[0;34m\u001b[0m\n\u001b[0;32m----> 1\u001b[0;31m \u001b[0mnn_model\u001b[0m\u001b[0;34m,\u001b[0m \u001b[0mnn_hist\u001b[0m \u001b[0;34m=\u001b[0m \u001b[0mnn_classifier\u001b[0m\u001b[0;34m(\u001b[0m\u001b[0mdev_dataloaders\u001b[0m\u001b[0;34m)\u001b[0m\u001b[0;34m\u001b[0m\u001b[0;34m\u001b[0m\u001b[0m\n\u001b[0m",
      "\u001b[0;31mNameError\u001b[0m: name 'nn_classifier' is not defined"
     ]
    }
   ],
   "source": [
    "nn_model, nn_hist = nn_classifier(dev_dataloaders)"
   ]
  },
  {
   "cell_type": "code",
   "execution_count": null,
   "metadata": {},
   "outputs": [],
   "source": [
    "nn_ohist = [h.cpu().numpy() for h in inception_hist]\n",
    "num_epochs = 25\n",
    "plt.title(\"Validation Accuracy vs. Number of Training Epochs\")\n",
    "plt.xlabel(\"Training Epochs\")\n",
    "plt.ylabel(\"Validation Accuracy\")\n",
    "plt.plot(range(1,num_epochs+1),inception_ohist,label=\"Inception Model\")\n",
    "plt.ylim((0,1.))\n",
    "plt.xticks(np.arange(1, num_epochs+1, 1.0))\n",
    "plt.legend()\n",
    "plt.show()"
   ]
  }
 ],
 "metadata": {
  "kernelspec": {
   "display_name": "Python 3",
   "language": "python",
   "name": "python3"
  },
  "language_info": {
   "codemirror_mode": {
    "name": "ipython",
    "version": 3
   },
   "file_extension": ".py",
   "mimetype": "text/x-python",
   "name": "python",
   "nbconvert_exporter": "python",
   "pygments_lexer": "ipython3",
   "version": "3.7.1"
  }
 },
 "nbformat": 4,
 "nbformat_minor": 2
}
