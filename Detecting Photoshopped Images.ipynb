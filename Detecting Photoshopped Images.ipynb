{
 "cells": [
  {
   "cell_type": "code",
   "execution_count": 1,
   "metadata": {},
   "outputs": [],
   "source": [
    "import os\n",
    "import numpy as np\n",
    "import torch\n",
    "import torch.nn as nn\n",
    "import torch.optim as optim\n",
    "from torch.utils.data  import random_split, Subset\n",
    "from torch.optim import lr_scheduler\n",
    "from torch.utils.data import DataLoader\n",
    "from torch.utils.data import sampler\n",
    "import torchvision.datasets as dset\n",
    "import torchvision.transforms as T\n",
    "import matplotlib.pyplot as plt\n",
    "import time\n",
    "import copy\n",
    "\n",
    "# Ignore warnings\n",
    "import warnings\n",
    "warnings.filterwarnings(\"ignore\")\n",
    "\n",
    "plt.ion()   # interactive mode\n",
    "\n",
    "%load_ext autoreload\n",
    "%autoreload 2"
   ]
  },
  {
   "cell_type": "code",
   "execution_count": 2,
   "metadata": {},
   "outputs": [],
   "source": [
    "from model.data_loader import *\n",
    "\n",
    "PHOTOSHOPS_FULL ='data/photoshops_resized'\n",
    "ORIGINALS_FULL ='data/originals_resized'\n"
   ]
  },
  {
   "cell_type": "code",
   "execution_count": 3,
   "metadata": {},
   "outputs": [
    {
     "name": "stdout",
     "output_type": "stream",
     "text": [
      "20759\n"
     ]
    }
   ],
   "source": [
    "master_dataset = PhotoshopDataset(ORIGINALS_FULL, PHOTOSHOPS_FULL)\n",
    "print(len(master_dataset))"
   ]
  },
  {
   "cell_type": "markdown",
   "metadata": {},
   "source": [
    "Change device to GPU if available"
   ]
  },
  {
   "cell_type": "code",
   "execution_count": 4,
   "metadata": {},
   "outputs": [],
   "source": [
    "device = torch.device(\"cuda:0\" if torch.cuda.is_available() else \"cpu\")"
   ]
  },
  {
   "cell_type": "markdown",
   "metadata": {},
   "source": [
    "### Create train, val, splits for full learning \n",
    "\n",
    "This is the dataset that will be used for final learning"
   ]
  },
  {
   "cell_type": "code",
   "execution_count": 5,
   "metadata": {},
   "outputs": [],
   "source": [
    "random.seed(42)\n",
    "\n",
    "n = len(master_dataset)\n",
    "n_test= int( n * .15 )  # number of test/val elements\n",
    "n_val = n_test\n",
    "n_train = n - 2 * n_test\n",
    "\n",
    "train_set, val_set, test_set = random_split(master_dataset, (n_train, n_val, n_test))"
   ]
  },
  {
   "cell_type": "code",
   "execution_count": 6,
   "metadata": {},
   "outputs": [
    {
     "name": "stdout",
     "output_type": "stream",
     "text": [
      "14533\n",
      "3113\n",
      "3113\n"
     ]
    }
   ],
   "source": [
    "print (len(train_set))\n",
    "train_set.transform = data_transforms['train']\n",
    "print (len(val_set))\n",
    "val_set.transform = data_transforms['val']\n",
    "print (len(test_set))\n",
    "test_set.transform = data_transforms['val']"
   ]
  },
  {
   "cell_type": "markdown",
   "metadata": {},
   "source": [
    "### Create train, val, splits for dev\n",
    "\n",
    "This is the dataset that will be used for development i.e 10% of master data"
   ]
  },
  {
   "cell_type": "code",
   "execution_count": 36,
   "metadata": {},
   "outputs": [],
   "source": [
    "n_train_dev = int( n_train * .1 )\n",
    "n_test_dev= int( n_test * .1 )  \n",
    "n_val_dev = int( n_val * .1)\n",
    "\n",
    "\n",
    "train_set_dev = Subset(train_set, range(n_train_dev))\n",
    "val_set_dev = Subset(val_set,range(n_val_dev))\n",
    "test_set_dev = Subset(test_set, range(n_test_dev))"
   ]
  },
  {
   "cell_type": "code",
   "execution_count": 37,
   "metadata": {},
   "outputs": [
    {
     "name": "stdout",
     "output_type": "stream",
     "text": [
      "1453\n",
      "311\n",
      "311\n"
     ]
    }
   ],
   "source": [
    "print (len(train_set_dev))\n",
    "print (len(val_set_dev))\n",
    "print (len(test_set_dev))"
   ]
  },
  {
   "cell_type": "markdown",
   "metadata": {},
   "source": [
    "### Create data loaders for dev sets\n",
    "\n",
    "Used to load data. "
   ]
  },
  {
   "cell_type": "code",
   "execution_count": 38,
   "metadata": {},
   "outputs": [],
   "source": [
    "full_dataloaders = {\n",
    "    'train' : DataLoader(train_set, batch_size=128, shuffle=True, num_workers=4),\n",
    "    'val' : DataLoader(val_set, batch_size=128, shuffle=True, num_workers=4),\n",
    "    'test' : DataLoader(test_set, batch_size=128, shuffle=True, num_workers=4),\n",
    "}"
   ]
  },
  {
   "cell_type": "code",
   "execution_count": 39,
   "metadata": {},
   "outputs": [],
   "source": [
    "dev_dataloaders = {\n",
    "    'train' : DataLoader(train_set_dev, batch_size=8, shuffle=True, num_workers=2),\n",
    "    'val' : DataLoader(val_set_dev, batch_size=8, shuffle=True, num_workers=2),\n",
    "    'test' : DataLoader(test_set_dev, batch_size=8, shuffle=True, num_workers=2)\n",
    "}"
   ]
  },
  {
   "cell_type": "markdown",
   "metadata": {},
   "source": [
    "### Importing the InceptionV3 Classifier\n",
    "\n",
    "Classifier is a finetuned InceptionV3 model"
   ]
  },
  {
   "cell_type": "code",
   "execution_count": 40,
   "metadata": {},
   "outputs": [],
   "source": [
    "from model.inception_net import inception_classifier"
   ]
  },
  {
   "cell_type": "code",
   "execution_count": 41,
   "metadata": {},
   "outputs": [
    {
     "name": "stdout",
     "output_type": "stream",
     "text": [
      "Params to learn:\n",
      "\t AuxLogits.fc.weight\n",
      "\t AuxLogits.fc.bias\n",
      "\t fc.weight\n",
      "\t fc.bias\n",
      "Epoch 0/24\n",
      "----------\n",
      "train Loss: 0.9964 Acc: 0.5492\n",
      "val Loss: 0.7045 Acc: 0.5466\n",
      "\n",
      "Epoch 1/24\n",
      "----------\n",
      "train Loss: 1.0080 Acc: 0.5609\n",
      "val Loss: 0.7208 Acc: 0.5434\n",
      "\n",
      "Epoch 2/24\n",
      "----------\n",
      "train Loss: 0.9894 Acc: 0.5850\n",
      "val Loss: 0.6929 Acc: 0.5756\n",
      "\n",
      "Epoch 3/24\n",
      "----------\n",
      "train Loss: 0.9572 Acc: 0.6050\n",
      "val Loss: 0.6862 Acc: 0.6013\n",
      "\n",
      "Epoch 4/24\n",
      "----------\n",
      "train Loss: 0.9275 Acc: 0.6118\n",
      "val Loss: 0.6684 Acc: 0.6141\n",
      "\n",
      "Epoch 5/24\n",
      "----------\n",
      "train Loss: 0.9438 Acc: 0.6132\n",
      "val Loss: 0.6911 Acc: 0.5820\n",
      "\n",
      "Epoch 6/24\n",
      "----------\n",
      "train Loss: 0.9165 Acc: 0.6077\n",
      "val Loss: 0.6874 Acc: 0.5852\n",
      "\n",
      "Epoch 7/24\n",
      "----------\n",
      "train Loss: 0.9070 Acc: 0.6228\n",
      "val Loss: 0.7024 Acc: 0.5884\n",
      "\n",
      "Epoch 8/24\n",
      "----------\n",
      "train Loss: 0.9102 Acc: 0.6167\n",
      "val Loss: 0.6684 Acc: 0.6141\n",
      "\n",
      "Epoch 9/24\n",
      "----------\n",
      "train Loss: 0.9172 Acc: 0.6008\n",
      "val Loss: 0.6926 Acc: 0.5981\n",
      "\n",
      "Epoch 10/24\n",
      "----------\n",
      "train Loss: 0.9239 Acc: 0.6304\n",
      "val Loss: 0.6532 Acc: 0.6238\n",
      "\n",
      "Epoch 11/24\n",
      "----------\n",
      "train Loss: 0.8932 Acc: 0.6345\n",
      "val Loss: 0.6632 Acc: 0.6109\n",
      "\n",
      "Epoch 12/24\n",
      "----------\n",
      "train Loss: 0.9231 Acc: 0.6153\n",
      "val Loss: 0.6885 Acc: 0.5691\n",
      "\n",
      "Epoch 13/24\n",
      "----------\n",
      "train Loss: 0.9160 Acc: 0.6139\n",
      "val Loss: 0.6733 Acc: 0.6109\n",
      "\n",
      "Epoch 14/24\n",
      "----------\n",
      "train Loss: 0.9056 Acc: 0.6201\n",
      "val Loss: 0.6640 Acc: 0.6109\n",
      "\n",
      "Epoch 15/24\n",
      "----------\n",
      "train Loss: 0.9107 Acc: 0.6201\n",
      "val Loss: 0.6681 Acc: 0.6367\n",
      "\n",
      "Epoch 16/24\n",
      "----------\n",
      "train Loss: 0.9270 Acc: 0.6105\n",
      "val Loss: 0.6949 Acc: 0.5659\n",
      "\n",
      "Epoch 17/24\n",
      "----------\n",
      "train Loss: 0.9175 Acc: 0.6215\n",
      "val Loss: 0.6691 Acc: 0.5691\n",
      "\n",
      "Epoch 18/24\n",
      "----------\n",
      "train Loss: 0.8911 Acc: 0.6249\n",
      "val Loss: 0.6585 Acc: 0.6077\n",
      "\n",
      "Epoch 19/24\n",
      "----------\n",
      "train Loss: 0.8959 Acc: 0.6284\n",
      "val Loss: 0.6674 Acc: 0.6206\n",
      "\n",
      "Epoch 20/24\n",
      "----------\n",
      "train Loss: 0.8952 Acc: 0.6345\n",
      "val Loss: 0.6545 Acc: 0.5981\n",
      "\n",
      "Epoch 21/24\n",
      "----------\n",
      "train Loss: 0.9093 Acc: 0.6153\n",
      "val Loss: 0.6326 Acc: 0.6045\n",
      "\n",
      "Epoch 22/24\n",
      "----------\n",
      "train Loss: 0.8978 Acc: 0.6462\n",
      "val Loss: 0.6869 Acc: 0.5884\n",
      "\n",
      "Epoch 23/24\n",
      "----------\n",
      "train Loss: 0.9092 Acc: 0.6235\n",
      "val Loss: 0.7128 Acc: 0.5691\n",
      "\n",
      "Epoch 24/24\n",
      "----------\n",
      "train Loss: 0.9057 Acc: 0.6235\n",
      "val Loss: 0.6895 Acc: 0.5916\n",
      "\n",
      "Training complete in 25m 30s\n",
      "Best val Acc: 0.636656\n"
     ]
    }
   ],
   "source": [
    "inception_model, inception_hist = inception_classifier(dev_dataloaders)"
   ]
  },
  {
   "cell_type": "markdown",
   "metadata": {},
   "source": [
    "### Visualizing the results\n",
    "\n",
    "We will plot the results"
   ]
  },
  {
   "cell_type": "code",
   "execution_count": 42,
   "metadata": {},
   "outputs": [
    {
     "data": {
      "image/png": "[encoded data removed]",
      "text/plain": [
       "<Figure size 432x288 with 1 Axes>"
      ]
     },
     "metadata": {
      "needs_background": "light"
     },
     "output_type": "display_data"
    }
   ],
   "source": [
    "inception_ohist = [h.cpu().numpy() for h in inception_hist]\n",
    "num_epochs = 25\n",
    "plt.title(\"Validation Accuracy vs. Number of Training Epochs\")\n",
    "plt.xlabel(\"Training Epochs\")\n",
    "plt.ylabel(\"Validation Accuracy\")\n",
    "plt.plot(range(1,num_epochs+1),inception_ohist,label=\"Inception Model\")\n",
    "plt.ylim((0,1.))\n",
    "plt.xticks(np.arange(1, num_epochs+1, 1.0))\n",
    "plt.legend()\n",
    "plt.show()"
   ]
  },
  {
   "cell_type": "markdown",
   "metadata": {},
   "source": [
    "### Importing the CNN Model\n",
    "\n",
    "Classifier is a simple 3 layer CNN model"
   ]
  },
  {
   "cell_type": "code",
   "execution_count": 43,
   "metadata": {},
   "outputs": [],
   "source": [
    "from model.cnn import cnn_classifier"
   ]
  },
  {
   "cell_type": "code",
   "execution_count": 46,
   "metadata": {},
   "outputs": [
    {
     "name": "stdout",
     "output_type": "stream",
     "text": [
      "Params to learn:\n",
      "\t layer1.0.weight\n",
      "\t layer1.0.bias\n",
      "\t layer1.1.weight\n",
      "\t layer1.1.bias\n",
      "\t layer2.0.weight\n",
      "\t layer2.0.bias\n",
      "\t layer2.1.weight\n",
      "\t layer2.1.bias\n",
      "\t layer3.0.weight\n",
      "\t layer3.0.bias\n",
      "\t layer3.1.weight\n",
      "\t layer3.1.bias\n",
      "\t fc.weight\n",
      "\t fc.bias\n",
      "Epoch 0/24\n",
      "----------\n",
      "train Loss: 43.2003 Acc: 0.4942\n",
      "val Loss: 51.8745 Acc: 0.4920\n",
      "\n",
      "Epoch 1/24\n",
      "----------\n",
      "train Loss: 24.5311 Acc: 0.5086\n",
      "val Loss: 7.6891 Acc: 0.4984\n",
      "\n",
      "Epoch 2/24\n",
      "----------\n",
      "train Loss: 6.5834 Acc: 0.4907\n",
      "val Loss: 2.9968 Acc: 0.4984\n",
      "\n",
      "Epoch 3/24\n",
      "----------\n",
      "train Loss: 2.7464 Acc: 0.5224\n",
      "val Loss: 2.4398 Acc: 0.4984\n",
      "\n",
      "Epoch 4/24\n",
      "----------\n",
      "train Loss: 1.1568 Acc: 0.4811\n",
      "val Loss: 0.8334 Acc: 0.4984\n",
      "\n",
      "Epoch 5/24\n",
      "----------\n",
      "train Loss: 0.8646 Acc: 0.5093\n",
      "val Loss: 0.7666 Acc: 0.5080\n",
      "\n",
      "Epoch 6/24\n",
      "----------\n",
      "train Loss: 0.8639 Acc: 0.5024\n",
      "val Loss: 0.8187 Acc: 0.5048\n",
      "\n",
      "Epoch 7/24\n",
      "----------\n",
      "train Loss: 0.8324 Acc: 0.4783\n",
      "val Loss: 0.7329 Acc: 0.5145\n",
      "\n",
      "Epoch 8/24\n",
      "----------\n",
      "train Loss: 0.7960 Acc: 0.5086\n",
      "val Loss: 0.8033 Acc: 0.4695\n",
      "\n",
      "Epoch 9/24\n",
      "----------\n",
      "train Loss: 0.7970 Acc: 0.5148\n",
      "val Loss: 0.7515 Acc: 0.4952\n",
      "\n",
      "Epoch 10/24\n",
      "----------\n",
      "train Loss: 0.7590 Acc: 0.5272\n",
      "val Loss: 0.7528 Acc: 0.4823\n",
      "\n",
      "Epoch 11/24\n",
      "----------\n",
      "train Loss: 0.7695 Acc: 0.5017\n",
      "val Loss: 0.7428 Acc: 0.4887\n",
      "\n",
      "Epoch 12/24\n",
      "----------\n",
      "train Loss: 0.7556 Acc: 0.5196\n",
      "val Loss: 0.8054 Acc: 0.4405\n",
      "\n",
      "Epoch 13/24\n",
      "----------\n",
      "train Loss: 0.7624 Acc: 0.5058\n",
      "val Loss: 0.7401 Acc: 0.4823\n",
      "\n",
      "Epoch 14/24\n",
      "----------\n",
      "train Loss: 0.8023 Acc: 0.4935\n",
      "val Loss: 0.7315 Acc: 0.5113\n",
      "\n",
      "Epoch 15/24\n",
      "----------\n",
      "train Loss: 0.7715 Acc: 0.4811\n",
      "val Loss: 0.7212 Acc: 0.5145\n",
      "\n",
      "Epoch 16/24\n",
      "----------\n",
      "train Loss: 0.7619 Acc: 0.5072\n",
      "val Loss: 0.7358 Acc: 0.4598\n",
      "\n",
      "Epoch 17/24\n",
      "----------\n",
      "train Loss: 0.7592 Acc: 0.5203\n",
      "val Loss: 0.7316 Acc: 0.4855\n",
      "\n",
      "Epoch 18/24\n",
      "----------\n",
      "train Loss: 0.7450 Acc: 0.5203\n",
      "val Loss: 0.7223 Acc: 0.5048\n",
      "\n",
      "Epoch 19/24\n",
      "----------\n",
      "train Loss: 0.7709 Acc: 0.5114\n",
      "val Loss: 0.7264 Acc: 0.5434\n",
      "\n",
      "Epoch 20/24\n",
      "----------\n",
      "train Loss: 0.7608 Acc: 0.5244\n",
      "val Loss: 0.7319 Acc: 0.4534\n",
      "\n",
      "Epoch 21/24\n",
      "----------\n",
      "train Loss: 0.7438 Acc: 0.5141\n",
      "val Loss: 0.7241 Acc: 0.4952\n",
      "\n",
      "Epoch 22/24\n",
      "----------\n",
      "train Loss: 0.7605 Acc: 0.5031\n",
      "val Loss: 0.7792 Acc: 0.4791\n",
      "\n",
      "Epoch 23/24\n",
      "----------\n",
      "train Loss: 0.7536 Acc: 0.5217\n",
      "val Loss: 0.7393 Acc: 0.4662\n",
      "\n",
      "Epoch 24/24\n",
      "----------\n",
      "train Loss: 0.7388 Acc: 0.5217\n",
      "val Loss: 0.7257 Acc: 0.5113\n",
      "\n",
      "Training complete in 28m 15s\n",
      "Best val Acc: 0.543408\n"
     ]
    }
   ],
   "source": [
    "cnn_model, cnn_hist = cnn_classifier(dev_dataloaders)"
   ]
  },
  {
   "cell_type": "code",
   "execution_count": null,
   "metadata": {},
   "outputs": [],
   "source": [
    "cnn_ohist = [h.cpu().numpy() for h in cnn_hist]\n",
    "num_epochs = 25\n",
    "plt.title(\"Validation Accuracy vs. Number of Training Epochs\")\n",
    "plt.xlabel(\"Training Epochs\")\n",
    "plt.ylabel(\"Validation Accuracy\")\n",
    "plt.plot(range(1,num_epochs+1),cnn_ohist,label=\"CNN Model\")\n",
    "plt.ylim((0,1.))\n",
    "plt.xticks(np.arange(1, num_epochs+1, 1.0))\n",
    "plt.legend()\n",
    "plt.show()"
   ]
  },
  {
   "cell_type": "code",
   "execution_count": null,
   "metadata": {},
   "outputs": [],
   "source": []
  },
  {
   "cell_type": "code",
   "execution_count": null,
   "metadata": {},
   "outputs": [],
   "source": []
  }
 ],
 "metadata": {
  "kernelspec": {
   "display_name": "Python 3",
   "language": "python",
   "name": "python3"
  },
  "language_info": {
   "codemirror_mode": {
    "name": "ipython",
    "version": 3
   },
   "file_extension": ".py",
   "mimetype": "text/x-python",
   "name": "python",
   "nbconvert_exporter": "python",
   "pygments_lexer": "ipython3",
   "version": "3.7.3"
  }
 },
 "nbformat": 4,
 "nbformat_minor": 2
}
