{
 "cells": [
  {
   "cell_type": "code",
   "execution_count": 1,
   "metadata": {},
   "outputs": [],
   "source": [
    "import os\n",
    "import numpy as np\n",
    "import torch\n",
    "import torch.nn as nn\n",
    "import torch.optim as optim\n",
    "from torch.utils.data  import random_split, Subset\n",
    "from torch.optim import lr_scheduler\n",
    "from torch.utils.data import DataLoader\n",
    "from torch.utils.data import sampler\n",
    "import torchvision.datasets as dset\n",
    "import torchvision.transforms as T\n",
    "import matplotlib.pyplot as plt\n",
    "import time\n",
    "import copy\n",
    "\n",
    "# Ignore warnings\n",
    "import warnings\n",
    "warnings.filterwarnings(\"ignore\")\n",
    "\n",
    "plt.ion()   # interactive mode\n",
    "\n",
    "%load_ext autoreload\n",
    "%autoreload 2"
   ]
  },
  {
   "cell_type": "code",
   "execution_count": 2,
   "metadata": {},
   "outputs": [],
   "source": [
    "from model.data_loader import *\n",
    "\n",
    "PHOTOSHOPS_SMALL ='data/photoshops_small'\n",
    "ORIGINALS_SMALL ='data/originals_small'\n"
   ]
  },
  {
   "cell_type": "code",
   "execution_count": 3,
   "metadata": {},
   "outputs": [
    {
     "name": "stdout",
     "output_type": "stream",
     "text": [
      "5902\n"
     ]
    }
   ],
   "source": [
    "master_dataset = PhotoshopDataset(ORIGINALS_SMALL, PHOTOSHOPS_SMALL)\n",
    "print(len(master_dataset))"
   ]
  },
  {
   "cell_type": "markdown",
   "metadata": {},
   "source": [
    "Change device to GPU if available"
   ]
  },
  {
   "cell_type": "code",
   "execution_count": 4,
   "metadata": {},
   "outputs": [],
   "source": [
    "device = torch.device(\"cuda:0\" if torch.cuda.is_available() else \"cpu\")"
   ]
  },
  {
   "cell_type": "markdown",
   "metadata": {},
   "source": [
    "### Create train, val, splits for full learning \n",
    "\n",
    "This is the dataset that will be used for final learning"
   ]
  },
  {
   "cell_type": "code",
   "execution_count": 5,
   "metadata": {},
   "outputs": [],
   "source": [
    "random.seed(42)\n",
    "\n",
    "n = len(master_dataset)\n",
    "n_test= int( n * .15 )  # number of test/val elements\n",
    "n_val = n_test\n",
    "n_train = n - 2 * n_test\n",
    "\n",
    "train_set, val_set, test_set = random_split(master_dataset, (n_train, n_val, n_test))"
   ]
  },
  {
   "cell_type": "code",
   "execution_count": 6,
   "metadata": {},
   "outputs": [
    {
     "name": "stdout",
     "output_type": "stream",
     "text": [
      "4132\n",
      "885\n",
      "885\n"
     ]
    }
   ],
   "source": [
    "print (len(train_set))\n",
    "train_set.transform = data_transforms['train']\n",
    "print (len(val_set))\n",
    "val_set.transform = data_transforms['val']\n",
    "print (len(test_set))\n",
    "test_set.transform = data_transforms['val']"
   ]
  },
  {
   "cell_type": "markdown",
   "metadata": {},
   "source": [
    "### Create train, val, splits for dev\n",
    "\n",
    "This is the dataset that will be used for development i.e 10% of master data"
   ]
  },
  {
   "cell_type": "code",
   "execution_count": 7,
   "metadata": {},
   "outputs": [],
   "source": [
    "n_train_dev = int( n_train * .10 )\n",
    "n_test_dev= int( n_test * .10 )  \n",
    "n_val_dev = int( n_val * .10 )\n",
    "\n",
    "\n",
    "train_set_dev = Subset(train_set, range(n_train_dev-1))\n",
    "val_set_dev = Subset(val_set,range(n_val_dev))\n",
    "test_set_dev = Subset(test_set, range(n_test_dev))"
   ]
  },
  {
   "cell_type": "code",
   "execution_count": 8,
   "metadata": {},
   "outputs": [
    {
     "name": "stdout",
     "output_type": "stream",
     "text": [
      "412\n",
      "88\n",
      "88\n"
     ]
    }
   ],
   "source": [
    "print (len(train_set_dev))\n",
    "print (len(val_set_dev))\n",
    "print (len(test_set_dev))"
   ]
  },
  {
   "cell_type": "markdown",
   "metadata": {},
   "source": [
    "### Create data loaders for dev sets\n",
    "\n",
    "Used to load data. "
   ]
  },
  {
   "cell_type": "code",
   "execution_count": 9,
   "metadata": {},
   "outputs": [],
   "source": [
    "full_dataloaders = {\n",
    "    'train' : DataLoader(train_set, batch_size=128, shuffle=True, num_workers=4),\n",
    "    'val' : DataLoader(val_set, batch_size=128, shuffle=True, num_workers=4),\n",
    "    'test' : DataLoader(test_set, batch_size=128, shuffle=True, num_workers=4),\n",
    "}"
   ]
  },
  {
   "cell_type": "code",
   "execution_count": 10,
   "metadata": {},
   "outputs": [],
   "source": [
    "dev_dataloaders = {\n",
    "    'train' : DataLoader(train_set_dev, batch_size=8, shuffle=True, num_workers=2),\n",
    "    'val' : DataLoader(val_set_dev, batch_size=8, shuffle=True, num_workers=2),\n",
    "    'test' : DataLoader(test_set_dev, batch_size=8, shuffle=True, num_workers=2)\n",
    "}"
   ]
  },
  {
   "cell_type": "markdown",
   "metadata": {},
   "source": [
    "### Importing the Photoshop Classifier\n",
    "\n",
    "Classifier is a finetuned InceptionV3 model"
   ]
  },
  {
   "cell_type": "code",
   "execution_count": 11,
   "metadata": {},
   "outputs": [],
   "source": [
    "from model.net import photoshop_classifier"
   ]
  },
  {
   "cell_type": "code",
   "execution_count": 12,
   "metadata": {},
   "outputs": [
    {
     "name": "stdout",
     "output_type": "stream",
     "text": [
      "Params to learn:\n",
      "\t AuxLogits.fc.weight\n",
      "\t AuxLogits.fc.bias\n",
      "\t fc.weight\n",
      "\t fc.bias\n",
      "Epoch 0/24\n",
      "----------\n",
      "Ran through 1 batch\n",
      "train Loss: 1.0418 Acc: 0.5413\n",
      "val Loss: 0.7036 Acc: 0.5682\n",
      "\n",
      "Epoch 1/24\n",
      "----------\n",
      "train Loss: 1.0207 Acc: 0.5437\n",
      "val Loss: 0.7462 Acc: 0.5455\n",
      "\n",
      "Epoch 2/24\n",
      "----------\n",
      "train Loss: 0.9421 Acc: 0.5607\n",
      "val Loss: 0.6945 Acc: 0.5795\n",
      "\n",
      "Epoch 3/24\n",
      "----------\n",
      "train Loss: 0.9190 Acc: 0.5971\n",
      "val Loss: 0.6562 Acc: 0.6023\n",
      "\n",
      "Epoch 4/24\n",
      "----------\n",
      "train Loss: 0.8814 Acc: 0.6165\n",
      "val Loss: 0.7062 Acc: 0.5000\n",
      "\n",
      "Epoch 5/24\n",
      "----------\n",
      "train Loss: 0.8811 Acc: 0.6311\n",
      "val Loss: 0.7344 Acc: 0.5455\n",
      "\n",
      "Epoch 6/24\n",
      "----------\n",
      "train Loss: 0.8659 Acc: 0.6505\n",
      "val Loss: 0.6804 Acc: 0.5682\n",
      "\n",
      "Epoch 7/24\n",
      "----------\n",
      "train Loss: 0.8935 Acc: 0.6311\n",
      "val Loss: 0.6967 Acc: 0.5909\n",
      "\n",
      "Epoch 8/24\n",
      "----------\n",
      "train Loss: 0.8855 Acc: 0.6529\n",
      "val Loss: 0.6556 Acc: 0.5795\n",
      "\n",
      "Epoch 9/24\n",
      "----------\n",
      "train Loss: 0.8729 Acc: 0.6723\n",
      "val Loss: 0.6986 Acc: 0.5341\n",
      "\n",
      "Epoch 10/24\n",
      "----------\n",
      "train Loss: 0.8701 Acc: 0.6578\n",
      "val Loss: 0.7009 Acc: 0.6250\n",
      "\n",
      "Epoch 11/24\n",
      "----------\n",
      "train Loss: 0.8647 Acc: 0.6699\n",
      "val Loss: 0.6608 Acc: 0.6136\n",
      "\n",
      "Epoch 12/24\n",
      "----------\n",
      "train Loss: 0.8818 Acc: 0.6238\n",
      "val Loss: 0.7135 Acc: 0.5227\n",
      "\n",
      "Epoch 13/24\n",
      "----------\n",
      "train Loss: 0.8655 Acc: 0.6456\n",
      "val Loss: 0.7005 Acc: 0.5909\n",
      "\n",
      "Epoch 14/24\n",
      "----------\n",
      "train Loss: 0.8724 Acc: 0.6092\n",
      "val Loss: 0.6930 Acc: 0.5568\n",
      "\n",
      "Epoch 15/24\n",
      "----------\n",
      "train Loss: 0.9015 Acc: 0.6214\n",
      "val Loss: 0.6905 Acc: 0.5682\n",
      "\n",
      "Epoch 16/24\n",
      "----------\n",
      "train Loss: 0.8757 Acc: 0.6311\n",
      "val Loss: 0.6663 Acc: 0.5682\n",
      "\n",
      "Epoch 17/24\n",
      "----------\n",
      "train Loss: 0.8706 Acc: 0.6578\n",
      "val Loss: 0.6735 Acc: 0.5909\n",
      "\n",
      "Epoch 18/24\n",
      "----------\n",
      "train Loss: 0.8659 Acc: 0.6578\n",
      "val Loss: 0.7115 Acc: 0.5568\n",
      "\n",
      "Epoch 19/24\n",
      "----------\n",
      "train Loss: 0.9054 Acc: 0.6044\n",
      "val Loss: 0.6812 Acc: 0.5455\n",
      "\n",
      "Epoch 20/24\n",
      "----------\n",
      "train Loss: 0.9078 Acc: 0.6068\n",
      "val Loss: 0.6736 Acc: 0.6136\n",
      "\n",
      "Epoch 21/24\n",
      "----------\n",
      "train Loss: 0.8883 Acc: 0.6748\n",
      "val Loss: 0.7152 Acc: 0.5682\n",
      "\n",
      "Epoch 22/24\n",
      "----------\n",
      "train Loss: 0.9194 Acc: 0.5971\n",
      "val Loss: 0.6715 Acc: 0.6023\n",
      "\n",
      "Epoch 23/24\n",
      "----------\n",
      "train Loss: 0.8834 Acc: 0.6311\n",
      "val Loss: 0.6741 Acc: 0.5568\n",
      "\n",
      "Epoch 24/24\n",
      "----------\n",
      "train Loss: 0.8873 Acc: 0.6553\n",
      "val Loss: 0.6813 Acc: 0.5795\n",
      "\n",
      "Training complete in 7m 51s\n",
      "Best val Acc: 0.625000\n"
     ]
    }
   ],
   "source": [
    "model, hist = photoshop_classifier(dev_dataloaders)"
   ]
  },
  {
   "cell_type": "markdown",
   "metadata": {},
   "source": [
    "### Visualizing the results\n",
    "\n",
    "We will plot the results"
   ]
  },
  {
   "cell_type": "code",
   "execution_count": 14,
   "metadata": {},
   "outputs": [
    {
     "data": {
      "image/png": "[encoded data removed]",
      "text/plain": [
       "<Figure size 432x288 with 1 Axes>"
      ]
     },
     "metadata": {
      "needs_background": "light"
     },
     "output_type": "display_data"
    }
   ],
   "source": [
    "ohist = [h.cpu().numpy() for h in hist]\n",
    "num_epochs = 25\n",
    "plt.title(\"Validation Accuracy vs. Number of Training Epochs\")\n",
    "plt.xlabel(\"Training Epochs\")\n",
    "plt.ylabel(\"Validation Accuracy\")\n",
    "plt.plot(range(1,num_epochs+1),ohist,label=\"Inception Model\")\n",
    "plt.ylim((0,1.))\n",
    "plt.xticks(np.arange(1, num_epochs+1, 1.0))\n",
    "plt.legend()\n",
    "plt.show()"
   ]
  },
  {
   "cell_type": "code",
   "execution_count": null,
   "metadata": {},
   "outputs": [],
   "source": []
  }
 ],
 "metadata": {
  "kernelspec": {
   "display_name": "Python 3",
   "language": "python",
   "name": "python3"
  },
  "language_info": {
   "codemirror_mode": {
    "name": "ipython",
    "version": 3
   },
   "file_extension": ".py",
   "mimetype": "text/x-python",
   "name": "python",
   "nbconvert_exporter": "python",
   "pygments_lexer": "ipython3",
   "version": "3.7.3"
  }
 },
 "nbformat": 4,
 "nbformat_minor": 2
}
